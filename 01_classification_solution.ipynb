{
 "cells": [
  {
   "cell_type": "code",
   "execution_count": null,
   "metadata": {
    "collapsed": true
   },
   "outputs": [],
   "source": [
    "# Imports for Reading data\n",
    "import pandas as pd\n",
    "import numpy"
   ]
  },
  {
   "cell_type": "code",
   "execution_count": null,
   "metadata": {
    "collapsed": false
   },
   "outputs": [],
   "source": [
    "df_data = pd.read_csv(\"ClassificationData.csv\", thousands=',', sep=',',engine='python')\n",
    "# Get the class labels for each datapoint in a separate array\n",
    "df_data_y = df_data['Label']\n",
    "df_data_x = df_data.drop('Label', 1)\n",
    "\n",
    "# no of rows and columns in the data set\n",
    "df_data_x.shape \n"
   ]
  },
  {
   "cell_type": "code",
   "execution_count": null,
   "metadata": {
    "collapsed": false
   },
   "outputs": [],
   "source": [
    "# Generic imports \n",
    "from sklearn.model_selection import train_test_split\n",
    "import numpy as np\n",
    "\n",
    "# Logistic regression\n",
    "from sklearn import linear_model, datasets\n",
    "\n",
    "# Support Vector Machines\n",
    "from sklearn.svm import SVC\n",
    "\n",
    "# Decision Trees\n",
    "from sklearn.tree import DecisionTreeClassifier"
   ]
  },
  {
   "cell_type": "code",
   "execution_count": null,
   "metadata": {
    "collapsed": true
   },
   "outputs": [],
   "source": [
    "# Split the dataset into test and train\n",
    "X_train, X_test, y_train, y_test = train_test_split(df_data_x, df_data_y, test_size = 0.2)"
   ]
  },
  {
   "cell_type": "code",
   "execution_count": null,
   "metadata": {
    "collapsed": false
   },
   "outputs": [],
   "source": [
    "# Classification using Logistic Regression \n",
    "\n",
    "# step size in the mesh\n",
    "h = .02  \n",
    "\n",
    "# Fit the data to teh model to get the weights for features\n",
    "logreg = linear_model.LogisticRegression(C=1.0)\n",
    "lg = logreg.fit(X_train, y_train)\n",
    "print(lg.coef_)\n",
    "\n",
    "# Use the Log reg model to calculate predict the class labels\n",
    "y_pred = logreg.predict(X_test)\n",
    "y_proba = logreg.predict_proba(X_test)\n",
    "\n",
    "# Logistic Regression score (accuracy )on training and test\n",
    "print(logreg.score(X_train, y_train))\n",
    "print(logreg.score(X_test, y_test))\n"
   ]
  },
  {
   "cell_type": "code",
   "execution_count": null,
   "metadata": {
    "collapsed": false
   },
   "outputs": [],
   "source": [
    "#Support Vector Machine Model\n",
    "\n",
    "#split the dataset into test and train\n",
    "X_train, X_test, y_train, y_test = train_test_split(df_data_x, df_data_y, test_size = 0.2)\n",
    "\n",
    "# Fit the training data\n",
    "svm = SVC(C=0.1, kernel='rbf')\n",
    "svm.fit(X_train, y_train)"
   ]
  },
  {
   "cell_type": "code",
   "execution_count": null,
   "metadata": {
    "collapsed": false
   },
   "outputs": [],
   "source": [
    "# Check predictions on training data\n",
    "y_pred_svm = svm.predict(X_train)\n",
    "\n",
    "# The mean accuracy on test and training \n",
    "print(svm.score(X_train, y_train))\n",
    "print(svm.score(X_test, y_test))"
   ]
  },
  {
   "cell_type": "code",
   "execution_count": null,
   "metadata": {
    "collapsed": false
   },
   "outputs": [],
   "source": [
    "# Classification using Decision Trees\n",
    "\n",
    "dt_model = DecisionTreeClassifier(min_samples_split=20)\n",
    "dt_model.fit(X_train, y_train)\n",
    "print(dt_model)\n",
    "\n",
    "# make predictions\n",
    "y_pred_decision_tree = dt_model.predict(X_test)\n",
    "\n",
    "# Accuracy of decision tree model on training data\n",
    "dt_model.score(X_train, y_train) \n",
    "\n",
    "# Accuracy of decision tree model on test dataset\n",
    "dt_model.score(X_test, y_test)\n"
   ]
  },
  {
   "cell_type": "code",
   "execution_count": null,
   "metadata": {
    "collapsed": true
   },
   "outputs": [],
   "source": []
  }
 ],
 "metadata": {
  "kernelspec": {
   "display_name": "Python 2",
   "language": "python",
   "name": "python2"
  },
  "language_info": {
   "codemirror_mode": {
    "name": "ipython",
    "version": 2
   },
   "file_extension": ".py",
   "mimetype": "text/x-python",
   "name": "python",
   "nbconvert_exporter": "python",
   "pygments_lexer": "ipython2",
   "version": "2.7.13"
  }
 },
 "nbformat": 4,
 "nbformat_minor": 1
}
